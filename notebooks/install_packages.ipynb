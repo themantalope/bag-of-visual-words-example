{
 "cells": [
  {
   "cell_type": "code",
   "execution_count": 2,
   "metadata": {
    "collapsed": false
   },
   "outputs": [
    {
     "name": "stdout",
     "output_type": "stream",
     "text": [
      "/Users/antalek/Documents/ProgrammingProjects/PythonProjects/bagofvisualwords/notebooks\n"
     ]
    }
   ],
   "source": [
    "%%bash\n",
    "pwd"
   ]
  },
  {
   "cell_type": "code",
   "execution_count": 3,
   "metadata": {
    "collapsed": false
   },
   "outputs": [
    {
     "name": "stdout",
     "output_type": "stream",
     "text": [
      "data\n",
      "notebooks\n",
      "setup.py\n",
      "src\n"
     ]
    }
   ],
   "source": [
    "%%bash\n",
    "cd ..\n",
    "ls"
   ]
  },
  {
   "cell_type": "code",
   "execution_count": 6,
   "metadata": {
    "collapsed": false
   },
   "outputs": [
    {
     "name": "stdout",
     "output_type": "stream",
     "text": [
      "running develop\n",
      "running egg_info\n",
      "writing src/bagofvisualwords.egg-info/PKG-INFO\n",
      "writing top-level names to src/bagofvisualwords.egg-info/top_level.txt\n",
      "writing dependency_links to src/bagofvisualwords.egg-info/dependency_links.txt\n",
      "reading manifest file 'src/bagofvisualwords.egg-info/SOURCES.txt'\n",
      "writing manifest file 'src/bagofvisualwords.egg-info/SOURCES.txt'\n",
      "running build_ext\n",
      "Creating /Users/antalek/anaconda/envs/ENVPy3/lib/python3.5/site-packages/bagofvisualwords.egg-link (link to src)\n",
      "bagofvisualwords 0.0.dev0 is already the active version in easy-install.pth\n",
      "\n",
      "Installed /Users/antalek/Documents/ProgrammingProjects/PythonProjects/bagofvisualwords/src\n",
      "Processing dependencies for bagofvisualwords==0.0.dev0\n",
      "Finished processing dependencies for bagofvisualwords==0.0.dev0\n",
      "running develop\n",
      "running egg_info\n",
      "creating src/patchifer.egg-info\n",
      "writing src/patchifer.egg-info/PKG-INFO\n",
      "writing top-level names to src/patchifer.egg-info/top_level.txt\n",
      "writing dependency_links to src/patchifer.egg-info/dependency_links.txt\n",
      "writing manifest file 'src/patchifer.egg-info/SOURCES.txt'\n",
      "reading manifest file 'src/patchifer.egg-info/SOURCES.txt'\n",
      "writing manifest file 'src/patchifer.egg-info/SOURCES.txt'\n",
      "running build_ext\n",
      "Creating /Users/antalek/anaconda/envs/ENVPy3/lib/python3.5/site-packages/patchifer.egg-link (link to src)\n",
      "patchifer 0.0.dev0 is already the active version in easy-install.pth\n",
      "\n",
      "Installed /Users/antalek/Documents/ProgrammingProjects/PythonProjects/bagofvisualwords/src\n",
      "Processing dependencies for patchifer==0.0.dev0\n",
      "Finished processing dependencies for patchifer==0.0.dev0\n"
     ]
    }
   ],
   "source": [
    "%%bash\n",
    "cd ..\n",
    "python setup.py develop"
   ]
  },
  {
   "cell_type": "code",
   "execution_count": 10,
   "metadata": {
    "collapsed": false
   },
   "outputs": [
    {
     "name": "stdout",
     "output_type": "stream",
     "text": [
      "/Users/antalek/anaconda/envs/ENVPy3/bin/python\n"
     ]
    }
   ],
   "source": [
    "%%bash\n",
    "which python"
   ]
  },
  {
   "cell_type": "code",
   "execution_count": 1,
   "metadata": {
    "collapsed": false
   },
   "outputs": [],
   "source": [
    "import patchifier"
   ]
  },
  {
   "cell_type": "code",
   "execution_count": 2,
   "metadata": {
    "collapsed": true
   },
   "outputs": [],
   "source": [
    "import bagofvisualwords"
   ]
  },
  {
   "cell_type": "code",
   "execution_count": null,
   "metadata": {
    "collapsed": true
   },
   "outputs": [],
   "source": [
    "# works!"
   ]
  }
 ],
 "metadata": {
  "kernelspec": {
   "display_name": "Python [conda env:ENVPy3]",
   "language": "python",
   "name": "conda-env-ENVPy3-py"
  },
  "language_info": {
   "codemirror_mode": {
    "name": "ipython",
    "version": 3
   },
   "file_extension": ".py",
   "mimetype": "text/x-python",
   "name": "python",
   "nbconvert_exporter": "python",
   "pygments_lexer": "ipython3",
   "version": "3.5.2"
  }
 },
 "nbformat": 4,
 "nbformat_minor": 2
}
